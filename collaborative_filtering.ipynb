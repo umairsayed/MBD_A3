{
 "cells": [
  {
   "cell_type": "code",
   "execution_count": 1,
   "id": "2c3f6146",
   "metadata": {},
   "outputs": [],
   "source": [
    "# library\n",
    "import warnings\n",
    "import numpy as np\n",
    "import pandas as pd\n",
    "import matplotlib.pyplot as plt\n",
    "import seaborn as sns\n",
    "\n",
    "warnings.filterwarnings('ignore')"
   ]
  },
  {
   "cell_type": "markdown",
   "id": "4d454e99",
   "metadata": {},
   "source": [
    "## Collaborative Filtering Implementation"
   ]
  },
  {
   "cell_type": "code",
   "execution_count": null,
   "id": "75dec2cb",
   "metadata": {},
   "outputs": [],
   "source": [
    "class CollaborativeFiltering:\n",
    "    def __init__(self, data, pattern=None):\n",
    "        self.data = pd.read_csv(data)\n",
    "        self.data_processing()\n",
    "    \n",
    "    def data_processing(self):\n",
    "        # data pre-processing\n",
    "        # creating a utility matrix where is each row is a user (member) and each column is an item\n",
    "        # this is to calculate similarity between users (members)\n",
    "        # adding a count column to count the each items bought by a user (member)\n",
    "        # (as our raw dataset contains user id (member bumber) and one item in each row, so initially I am adding 1 to count column)\n",
    "        self.data['count'] = 1\n",
    "\n",
    "        # creating a utility matrix (basically we are creating a wide form of the dataset)\n",
    "        # where all the colums are available unique item name (167 items) and rows are the member's ID (3872 members) and \n",
    "        # values are the values from count column (summed if a item bought multiple times)\n",
    "        self.utility_matrix = pd.pivot_table(self.data, index='Member_number', columns='itemDescription', values='count', aggfunc='sum', fill_value=0)\n",
    "\n",
    "        # coverting the utility matrix (dataframe) to numpy for faster and efficient system\n",
    "        self.utility_matrix_numpy = self.utility_matrix.to_numpy()\n",
    "\n",
    "        # mapping member ID's to numpy arrary index\n",
    "        self.member_id_to_np_index_map = {}\n",
    "        for i, member_id in enumerate(self.utility_matrix.index):\n",
    "            self.member_id_to_np_index_map[member_id] = i\n",
    "\n",
    "        # mapping item decription to numpy index\n",
    "        self.item_description = self.utility_matrix.columns.to_list()\n",
    "\n",
    "        # overview of the utility matrix\n",
    "        return self.utility_matrix\n",
    "    \n",
    "    # calculating cosine similarity \n",
    "    def cosine_similarity(self, user_1, user_2):\n",
    "        # calculating dot product between two users\n",
    "        dot_product = np.dot(user_1, user_2)\n",
    "        # calculating magnitude \n",
    "        magnitude_of_vector = np.sqrt(np.sum(user_1 ** 2) * np.sum(user_2 ** 2))\n",
    "        # cosine similarity\n",
    "        cos_similarity = dot_product / magnitude_of_vector\n",
    "        return cos_similarity\n",
    "    \n",
    "    def predict_purchase(self, item_index, member_index):\n",
    "        items_each_member = self.utility_matrix_numpy[:, item_index]\n",
    "        purchesed_item_indeces = np.where(items_each_member != 0)[0]\n",
    "        purchesed_item_count = items_each_member[purchesed_item_indeces]\n",
    "\n",
    "        member_similarity = [self.cosine_similarity(self.utility_matrix_numpy[member_index], self.utility_matrix_numpy[i]) for i in purchesed_item_indeces]\n",
    "        # prediction\n",
    "        weighted_sum = np.dot(member_similarity, purchesed_item_count) / np.sum(member_similarity) \n",
    "        return weighted_sum\n",
    "\n",
    "    \n",
    "    def make_recommendation(self, member_number, recommend_top_k):\n",
    "        # getting index for member id\n",
    "        member_index = self.member_id_to_np_index_map[member_number]\n",
    "\n",
    "        item_not_bought_by_member_indeces = np.where(self.utility_matrix_numpy[member_index] == 0)[0]\n",
    "        weighted_scores = []\n",
    "\n",
    "        for item_index in item_not_bought_by_member_indeces:\n",
    "            predicted_purchase_score = self.predict_purchase(item_index, member_index)\n",
    "            weighted_scores.append((item_index, predicted_purchase_score))\n",
    "\n",
    "        # sorting based on weighted scores\n",
    "        top_items_to_recommend = sorted(weighted_scores, key=lambda x: x[1], reverse=True)[:recommend_top_k]\n",
    "        recommened_items = [self.item_description[i] for i, weight in top_items_to_recommend]\n",
    "        return recommened_items\n",
    "    \n"
   ]
  },
  {
   "cell_type": "code",
   "execution_count": 3,
   "id": "b72442ee",
   "metadata": {},
   "outputs": [
    {
     "data": {
      "text/plain": [
       "['whole milk',\n",
       " 'other vegetables',\n",
       " 'rolls/buns',\n",
       " 'root vegetables',\n",
       " 'tropical fruit']"
      ]
     },
     "execution_count": 3,
     "metadata": {},
     "output_type": "execute_result"
    }
   ],
   "source": [
    "# making recommendation for a user\n",
    "data = 'Groceries data train.csv'\n",
    "member_number = 1000\n",
    "recommend_item = 5\n",
    "\n",
    "# instantiating class\n",
    "recommend_system = CollaborativeFiltering(data=data)\n",
    "\n",
    "# making recommendation\n",
    "recommend_system.make_recommendation(member_number, recommend_item)"
   ]
  },
  {
   "cell_type": "markdown",
   "id": "633bb308",
   "metadata": {},
   "source": [
    "## Evaluate Perfomance"
   ]
  },
  {
   "cell_type": "code",
   "execution_count": 4,
   "id": "f28dbf29",
   "metadata": {},
   "outputs": [
    {
     "data": {
      "application/vnd.microsoft.datawrangler.viewer.v0+json": {
       "columns": [
        {
         "name": "index",
         "rawType": "int64",
         "type": "integer"
        },
        {
         "name": "Member_number",
         "rawType": "int64",
         "type": "integer"
        },
        {
         "name": "Date",
         "rawType": "object",
         "type": "string"
        },
        {
         "name": "itemDescription",
         "rawType": "object",
         "type": "string"
        },
        {
         "name": "year",
         "rawType": "int64",
         "type": "integer"
        },
        {
         "name": "month",
         "rawType": "int64",
         "type": "integer"
        },
        {
         "name": "day",
         "rawType": "int64",
         "type": "integer"
        },
        {
         "name": "day_of_week",
         "rawType": "int64",
         "type": "integer"
        }
       ],
       "ref": "4fa40b8b-4f3f-4ee0-9a94-c34a8536fbf3",
       "rows": [
        [
         "0",
         "3481",
         "8/03/2015",
         "candy",
         "2015",
         "3",
         "8",
         "6"
        ],
        [
         "1",
         "1254",
         "19/04/2015",
         "white wine",
         "2015",
         "4",
         "19",
         "6"
        ],
        [
         "2",
         "2835",
         "28/01/2014",
         "domestic eggs",
         "2014",
         "1",
         "28",
         "1"
        ],
        [
         "3",
         "2854",
         "2/08/2015",
         "coffee",
         "2015",
         "8",
         "2",
         "6"
        ],
        [
         "4",
         "4637",
         "12/08/2014",
         "bottled water",
         "2014",
         "8",
         "12",
         "1"
        ]
       ],
       "shape": {
        "columns": 7,
        "rows": 5
       }
      },
      "text/html": [
       "<div>\n",
       "<style scoped>\n",
       "    .dataframe tbody tr th:only-of-type {\n",
       "        vertical-align: middle;\n",
       "    }\n",
       "\n",
       "    .dataframe tbody tr th {\n",
       "        vertical-align: top;\n",
       "    }\n",
       "\n",
       "    .dataframe thead th {\n",
       "        text-align: right;\n",
       "    }\n",
       "</style>\n",
       "<table border=\"1\" class=\"dataframe\">\n",
       "  <thead>\n",
       "    <tr style=\"text-align: right;\">\n",
       "      <th></th>\n",
       "      <th>Member_number</th>\n",
       "      <th>Date</th>\n",
       "      <th>itemDescription</th>\n",
       "      <th>year</th>\n",
       "      <th>month</th>\n",
       "      <th>day</th>\n",
       "      <th>day_of_week</th>\n",
       "    </tr>\n",
       "  </thead>\n",
       "  <tbody>\n",
       "    <tr>\n",
       "      <th>0</th>\n",
       "      <td>3481</td>\n",
       "      <td>8/03/2015</td>\n",
       "      <td>candy</td>\n",
       "      <td>2015</td>\n",
       "      <td>3</td>\n",
       "      <td>8</td>\n",
       "      <td>6</td>\n",
       "    </tr>\n",
       "    <tr>\n",
       "      <th>1</th>\n",
       "      <td>1254</td>\n",
       "      <td>19/04/2015</td>\n",
       "      <td>white wine</td>\n",
       "      <td>2015</td>\n",
       "      <td>4</td>\n",
       "      <td>19</td>\n",
       "      <td>6</td>\n",
       "    </tr>\n",
       "    <tr>\n",
       "      <th>2</th>\n",
       "      <td>2835</td>\n",
       "      <td>28/01/2014</td>\n",
       "      <td>domestic eggs</td>\n",
       "      <td>2014</td>\n",
       "      <td>1</td>\n",
       "      <td>28</td>\n",
       "      <td>1</td>\n",
       "    </tr>\n",
       "    <tr>\n",
       "      <th>3</th>\n",
       "      <td>2854</td>\n",
       "      <td>2/08/2015</td>\n",
       "      <td>coffee</td>\n",
       "      <td>2015</td>\n",
       "      <td>8</td>\n",
       "      <td>2</td>\n",
       "      <td>6</td>\n",
       "    </tr>\n",
       "    <tr>\n",
       "      <th>4</th>\n",
       "      <td>4637</td>\n",
       "      <td>12/08/2014</td>\n",
       "      <td>bottled water</td>\n",
       "      <td>2014</td>\n",
       "      <td>8</td>\n",
       "      <td>12</td>\n",
       "      <td>1</td>\n",
       "    </tr>\n",
       "  </tbody>\n",
       "</table>\n",
       "</div>"
      ],
      "text/plain": [
       "   Member_number        Date itemDescription  year  month  day  day_of_week\n",
       "0           3481   8/03/2015           candy  2015      3    8            6\n",
       "1           1254  19/04/2015      white wine  2015      4   19            6\n",
       "2           2835  28/01/2014   domestic eggs  2014      1   28            1\n",
       "3           2854   2/08/2015          coffee  2015      8    2            6\n",
       "4           4637  12/08/2014   bottled water  2014      8   12            1"
      ]
     },
     "execution_count": 4,
     "metadata": {},
     "output_type": "execute_result"
    }
   ],
   "source": [
    "test_data = pd.read_csv('Groceries data test.csv')\n",
    "test_data.head()"
   ]
  },
  {
   "cell_type": "code",
   "execution_count": 5,
   "id": "5496a52c",
   "metadata": {},
   "outputs": [
    {
     "name": "stdout",
     "output_type": "stream",
     "text": [
      "Member in the test data: 3566\n"
     ]
    }
   ],
   "source": [
    "# getting the member id's from the test data\n",
    "test_member_id = test_data['Member_number'].to_list()\n",
    "test_member_id.sort()\n",
    "test_member_id = set(test_member_id)\n",
    "print(f'Member in the test data: {len(test_member_id)}')"
   ]
  },
  {
   "cell_type": "code",
   "execution_count": 6,
   "id": "127fc6a2",
   "metadata": {},
   "outputs": [],
   "source": [
    "def precision_at_k(recommended, ground_truth, k):\n",
    "    recommended = recommended[:k]\n",
    "    precision = len(set(recommended).intersection(ground_truth))\n",
    "    return precision / k"
   ]
  },
  {
   "cell_type": "code",
   "execution_count": 11,
   "id": "576481d0",
   "metadata": {},
   "outputs": [],
   "source": [
    "# evaluating \n",
    "precision_score_list = []\n",
    "for member_id in test_member_id:\n",
    "    u = recommend_system.data_processing()\n",
    "    if member_id not in u.index:\n",
    "        continue\n",
    "    true_items = test_data[test_data['Member_number'] == member_id]['itemDescription'].to_list()\n",
    "    recommended_items_for_user = recommend_system.make_recommendation(member_id, 5)\n",
    "    precision_score = precision_at_k(recommended_items_for_user, true_items, 5)\n",
    "    precision_score_list.append(precision_score)"
   ]
  },
  {
   "cell_type": "code",
   "execution_count": 14,
   "id": "9da072f3",
   "metadata": {},
   "outputs": [
    {
     "data": {
      "text/plain": [
       "0.08598870056497175"
      ]
     },
     "execution_count": 14,
     "metadata": {},
     "output_type": "execute_result"
    }
   ],
   "source": [
    "np.mean(precision_score_list)"
   ]
  },
  {
   "cell_type": "code",
   "execution_count": null,
   "id": "3ca7acd9",
   "metadata": {},
   "outputs": [],
   "source": []
  }
 ],
 "metadata": {
  "kernelspec": {
   "display_name": "pytorch_gpu",
   "language": "python",
   "name": "python3"
  },
  "language_info": {
   "codemirror_mode": {
    "name": "ipython",
    "version": 3
   },
   "file_extension": ".py",
   "mimetype": "text/x-python",
   "name": "python",
   "nbconvert_exporter": "python",
   "pygments_lexer": "ipython3",
   "version": "3.12.3"
  }
 },
 "nbformat": 4,
 "nbformat_minor": 5
}
